{
 "cells": [
  {
   "cell_type": "code",
   "execution_count": 1,
   "id": "001d8e86",
   "metadata": {},
   "outputs": [
    {
     "name": "stderr",
     "output_type": "stream",
     "text": [
      "c:\\Users\\maxde\\anaconda3\\envs\\final311\\Lib\\site-packages\\tqdm\\auto.py:21: TqdmWarning: IProgress not found. Please update jupyter and ipywidgets. See https://ipywidgets.readthedocs.io/en/stable/user_install.html\n",
      "  from .autonotebook import tqdm as notebook_tqdm\n",
      "c:\\Users\\maxde\\anaconda3\\envs\\final311\\Lib\\site-packages\\timm\\models\\layers\\__init__.py:48: FutureWarning: Importing from timm.models.layers is deprecated, please import via timm.layers\n",
      "  warnings.warn(f\"Importing from {__name__} is deprecated, please import via timm.layers\", FutureWarning)\n"
     ]
    }
   ],
   "source": [
    "import dataset_utils\n",
    "import layers"
   ]
  },
  {
   "cell_type": "code",
   "execution_count": 2,
   "id": "624a4585",
   "metadata": {},
   "outputs": [],
   "source": [
    "dataset = dataset_utils.SDFDataset(\"./cars100\")"
   ]
  },
  {
   "cell_type": "code",
   "execution_count": 3,
   "id": "b1536d57",
   "metadata": {},
   "outputs": [],
   "source": [
    "from torch.utils.data import DataLoader, random_split\n",
    "import torch\n",
    "\n",
    "# make dataloaders\n",
    "train_size = int(0.8 * len(dataset))\n",
    "val_size = len(dataset) - train_size\n",
    "\n",
    "train_dataset, val_dataset = random_split(dataset, [train_size, val_size])\n",
    "\n",
    "train_loader = DataLoader(train_dataset, batch_size=4, shuffle=True, num_workers=4, pin_memory=True)\n",
    "val_loader = DataLoader(val_dataset, batch_size=4, shuffle=False, num_workers=4, pin_memory=True)\n",
    "\n",
    "device = torch.device('cuda' if torch.cuda.is_available() else 'cpu')\n",
    "model = layers.KLAutoEncoder().to(device)\n",
    "\n",
    "optimizer = torch.optim.Adam(model.parameters(), lr=1e-3)"
   ]
  },
  {
   "cell_type": "code",
   "execution_count": 4,
   "id": "4c868f14",
   "metadata": {},
   "outputs": [
    {
     "name": "stdout",
     "output_type": "stream",
     "text": [
      "torch.Size([4, 50000, 4])\n",
      "torch.Size([4, 50000, 4])\n",
      "torch.Size([4, 50000, 4])\n",
      "torch.Size([4, 50000, 4])\n",
      "torch.Size([4, 50000, 4])\n",
      "torch.Size([4, 50000, 4])\n",
      "torch.Size([4, 50000, 4])\n",
      "torch.Size([4, 50000, 4])\n",
      "torch.Size([4, 50000, 4])\n",
      "torch.Size([4, 50000, 4])\n",
      "torch.Size([4, 50000, 4])\n",
      "torch.Size([4, 50000, 4])\n",
      "torch.Size([4, 50000, 4])\n",
      "torch.Size([4, 50000, 4])\n",
      "torch.Size([4, 50000, 4])\n",
      "torch.Size([4, 50000, 4])\n",
      "torch.Size([4, 50000, 4])\n",
      "torch.Size([4, 50000, 4])\n",
      "torch.Size([4, 50000, 4])\n",
      "torch.Size([4, 50000, 4])\n",
      "80\n"
     ]
    }
   ],
   "source": [
    "for a in train_loader:\n",
    "    print(a.shape)\n",
    "print(len(train_dataset))"
   ]
  },
  {
   "cell_type": "code",
   "execution_count": 5,
   "id": "37e3166e",
   "metadata": {},
   "outputs": [
    {
     "name": "stderr",
     "output_type": "stream",
     "text": [
      "100%|██████████| 20/20 [00:44<00:00,  2.22s/it]\n"
     ]
    },
    {
     "ename": "NameError",
     "evalue": "name 'points_used' is not defined",
     "output_type": "error",
     "traceback": [
      "\u001b[31m---------------------------------------------------------------------------\u001b[39m",
      "\u001b[31mNameError\u001b[39m                                 Traceback (most recent call last)",
      "\u001b[36mCell\u001b[39m\u001b[36m \u001b[39m\u001b[32mIn[5]\u001b[39m\u001b[32m, line 4\u001b[39m\n\u001b[32m      1\u001b[39m \u001b[38;5;28;01mimport\u001b[39;00m\u001b[38;5;250m \u001b[39m\u001b[34;01mtrainer\u001b[39;00m\u001b[38;5;250m \u001b[39m\u001b[38;5;28;01mas\u001b[39;00m\u001b[38;5;250m \u001b[39m\u001b[34;01mt\u001b[39;00m\n\u001b[32m      2\u001b[39m \u001b[38;5;66;03m# from importlib import reload\u001b[39;00m\n\u001b[32m      3\u001b[39m \u001b[38;5;66;03m# reload(t)\u001b[39;00m\n\u001b[32m----> \u001b[39m\u001b[32m4\u001b[39m \u001b[43mt\u001b[49m\u001b[43m.\u001b[49m\u001b[43mtrain\u001b[49m\u001b[43m(\u001b[49m\u001b[43mmodel\u001b[49m\u001b[43m,\u001b[49m\u001b[43m \u001b[49m\u001b[43mtrain_loader\u001b[49m\u001b[43m,\u001b[49m\u001b[43m \u001b[49m\u001b[43mval_loader\u001b[49m\u001b[43m,\u001b[49m\u001b[43m \u001b[49m\u001b[43moptimizer\u001b[49m\u001b[43m,\u001b[49m\u001b[43m \u001b[49m\u001b[43mdevice\u001b[49m\u001b[43m,\u001b[49m\u001b[43m \u001b[49m\u001b[43mnum_epochs\u001b[49m\u001b[43m=\u001b[49m\u001b[32;43m10\u001b[39;49m\u001b[43m)\u001b[49m\n",
      "\u001b[36mFile \u001b[39m\u001b[32mc:\\Users\\maxde\\Documents\\CPSC-452-Final-Project\\trainer.py:8\u001b[39m, in \u001b[36mtrain\u001b[39m\u001b[34m(model, train_loader, val_loader, optimizer, device, num_epochs, kl_weight)\u001b[39m\n\u001b[32m      6\u001b[39m \u001b[38;5;28;01mfor\u001b[39;00m epoch \u001b[38;5;129;01min\u001b[39;00m \u001b[38;5;28mrange\u001b[39m(num_epochs):\n\u001b[32m      7\u001b[39m     train_one_epoch(model, train_loader, optimizer, device, kl_weight)\n\u001b[32m----> \u001b[39m\u001b[32m8\u001b[39m     val_loss = \u001b[43mevaluate\u001b[49m\u001b[43m(\u001b[49m\u001b[43mmodel\u001b[49m\u001b[43m,\u001b[49m\u001b[43m \u001b[49m\u001b[43mval_loader\u001b[49m\u001b[43m,\u001b[49m\u001b[43m \u001b[49m\u001b[43mdevice\u001b[49m\u001b[43m)\u001b[49m\n\u001b[32m      9\u001b[39m     \u001b[38;5;28mprint\u001b[39m(\u001b[33mf\u001b[39m\u001b[33m\"\u001b[39m\u001b[33mEpoch \u001b[39m\u001b[38;5;132;01m{\u001b[39;00mepoch+\u001b[32m1\u001b[39m\u001b[38;5;132;01m}\u001b[39;00m\u001b[33m/\u001b[39m\u001b[38;5;132;01m{\u001b[39;00mnum_epochs\u001b[38;5;132;01m}\u001b[39;00m\u001b[33m - Validation Loss: \u001b[39m\u001b[38;5;132;01m{\u001b[39;00mval_loss\u001b[38;5;132;01m:\u001b[39;00m\u001b[33m.6f\u001b[39m\u001b[38;5;132;01m}\u001b[39;00m\u001b[33m\"\u001b[39m)\n",
      "\u001b[36mFile \u001b[39m\u001b[32mc:\\Users\\maxde\\anaconda3\\envs\\final311\\Lib\\site-packages\\torch\\utils\\_contextlib.py:116\u001b[39m, in \u001b[36mcontext_decorator.<locals>.decorate_context\u001b[39m\u001b[34m(*args, **kwargs)\u001b[39m\n\u001b[32m    113\u001b[39m \u001b[38;5;129m@functools\u001b[39m.wraps(func)\n\u001b[32m    114\u001b[39m \u001b[38;5;28;01mdef\u001b[39;00m\u001b[38;5;250m \u001b[39m\u001b[34mdecorate_context\u001b[39m(*args, **kwargs):\n\u001b[32m    115\u001b[39m     \u001b[38;5;28;01mwith\u001b[39;00m ctx_factory():\n\u001b[32m--> \u001b[39m\u001b[32m116\u001b[39m         \u001b[38;5;28;01mreturn\u001b[39;00m \u001b[43mfunc\u001b[49m\u001b[43m(\u001b[49m\u001b[43m*\u001b[49m\u001b[43margs\u001b[49m\u001b[43m,\u001b[49m\u001b[43m \u001b[49m\u001b[43m*\u001b[49m\u001b[43m*\u001b[49m\u001b[43mkwargs\u001b[49m\u001b[43m)\u001b[49m\n",
      "\u001b[36mFile \u001b[39m\u001b[32mc:\\Users\\maxde\\Documents\\CPSC-452-Final-Project\\trainer.py:60\u001b[39m, in \u001b[36mevaluate\u001b[39m\u001b[34m(model, data_loader, device)\u001b[39m\n\u001b[32m     57\u001b[39m B, N, D = batch.shape  \u001b[38;5;66;03m# B=20, N=500, D=4\u001b[39;00m\n\u001b[32m     59\u001b[39m \u001b[38;5;66;03m# Random indices: shape [B, points_used]\u001b[39;00m\n\u001b[32m---> \u001b[39m\u001b[32m60\u001b[39m samples_idx = torch.randint(\u001b[32m0\u001b[39m, N, (B, \u001b[43mpoints_used\u001b[49m), device=batch.device)\n\u001b[32m     61\u001b[39m query_idx = torch.randint(\u001b[32m0\u001b[39m, N, (B, num_query_points), device=batch.device)\n\u001b[32m     63\u001b[39m \u001b[38;5;66;03m# Use batch-wise indexing to gather the sampled points\u001b[39;00m\n",
      "\u001b[31mNameError\u001b[39m: name 'points_used' is not defined"
     ]
    }
   ],
   "source": [
    "import trainer as t\n",
    "# from importlib import reload\n",
    "# reload(t)\n",
    "t.train(model, train_loader, val_loader, optimizer, device, num_epochs=10)"
   ]
  }
 ],
 "metadata": {
  "kernelspec": {
   "display_name": "final311",
   "language": "python",
   "name": "python3"
  },
  "language_info": {
   "codemirror_mode": {
    "name": "ipython",
    "version": 3
   },
   "file_extension": ".py",
   "mimetype": "text/x-python",
   "name": "python",
   "nbconvert_exporter": "python",
   "pygments_lexer": "ipython3",
   "version": "3.11.12"
  }
 },
 "nbformat": 4,
 "nbformat_minor": 5
}
