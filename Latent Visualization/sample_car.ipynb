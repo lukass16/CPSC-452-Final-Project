{
 "cells": [
  {
   "cell_type": "code",
   "execution_count": 2,
   "id": "8c387574",
   "metadata": {},
   "outputs": [
    {
     "data": {
      "text/plain": [
       "Net(\n",
       "  (sa1_module): SAModule(\n",
       "    (conv): PointNetConv(local_nn=MLP(4, 64, 64, 128), global_nn=None)\n",
       "  )\n",
       "  (sa2_module): SAModule(\n",
       "    (conv): PointNetConv(local_nn=MLP(131, 128, 128, 256), global_nn=None)\n",
       "  )\n",
       "  (sa3_module): GlobalSAModule(\n",
       "    (nn): MLP(259, 256, 512, 1024)\n",
       "  )\n",
       "  (encode): MLP(1024, 512)\n",
       "  (mlp_mu): MLP(512, 512)\n",
       "  (mlp_logvar): MLP(512, 512)\n",
       "  (sdf1): MLP(515, 256, 128)\n",
       "  (sdf2): MLP(131, 64, 1)\n",
       ")"
      ]
     },
     "execution_count": 2,
     "metadata": {},
     "output_type": "execute_result"
    }
   ],
   "source": [
    "import torch\n",
    "import sys\n",
    "# add parent directory to the front of sys.path\n",
    "sys.path.insert(0, '..')\n",
    "import final_model\n",
    "device = torch.device('cuda' if torch.cuda.is_available() else 'cpu')\n",
    "\n",
    "model = final_model.Net().to(device)\n",
    "model.load_state_dict(torch.load(\"../working_model.pth\", weights_only=True))\n",
    "model.eval()"
   ]
  },
  {
   "cell_type": "code",
   "execution_count": 3,
   "id": "ad705a81",
   "metadata": {},
   "outputs": [],
   "source": [
    "import torch\n",
    "\n",
    "# for reproducibility (optional)\n",
    "torch.manual_seed(42)\n",
    "\n",
    "# sample uniformly in [-0.6, 0.6] to be query points\n",
    "queries = torch.empty(15000, 3).uniform_(-0.6, 0.6).to(device) # 5000, 3]\n",
    "\n",
    "# Sample from N(0,1)\n",
    "latent_code = torch.randn(1, 512).to(device)"
   ]
  },
  {
   "cell_type": "code",
   "execution_count": null,
   "id": "a61f486b",
   "metadata": {},
   "outputs": [
    {
     "ename": "",
     "evalue": "",
     "output_type": "error",
     "traceback": [
      "\u001b[1;31mThe Kernel crashed while executing code in the current cell or a previous cell. \n",
      "\u001b[1;31mPlease review the code in the cell(s) to identify a possible cause of the failure. \n",
      "\u001b[1;31mClick <a href='https://aka.ms/vscodeJupyterKernelCrash'>here</a> for more info. \n",
      "\u001b[1;31mView Jupyter <a href='command:jupyter.viewOutput'>log</a> for further details."
     ]
    }
   ],
   "source": [
    "out = model.decoder(latent_code, queries)\n",
    "\n",
    "prediction = torch.cat((queries, out), dim=-1).detach().cpu()\n",
    "\n",
    "import dataset_utils as du\n",
    "du.visualize_sdf_3d(prediction.squeeze(0))\n",
    "du.visualize_sdf_2d(prediction.squeeze(0))"
   ]
  }
 ],
 "metadata": {
  "kernelspec": {
   "display_name": "final311",
   "language": "python",
   "name": "python3"
  },
  "language_info": {
   "codemirror_mode": {
    "name": "ipython",
    "version": 3
   },
   "file_extension": ".py",
   "mimetype": "text/x-python",
   "name": "python",
   "nbconvert_exporter": "python",
   "pygments_lexer": "ipython3",
   "version": "3.11.12"
  }
 },
 "nbformat": 4,
 "nbformat_minor": 5
}
