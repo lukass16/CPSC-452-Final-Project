{
 "cells": [
  {
   "cell_type": "code",
   "execution_count": 1,
   "id": "8d3ac27b",
   "metadata": {},
   "outputs": [
    {
     "data": {
      "text/plain": [
       "Net(\n",
       "  (sa1_module): SAModule(\n",
       "    (conv): PointNetConv(local_nn=MLP(4, 64, 64, 128), global_nn=None)\n",
       "  )\n",
       "  (sa2_module): SAModule(\n",
       "    (conv): PointNetConv(local_nn=MLP(131, 128, 128, 256), global_nn=None)\n",
       "  )\n",
       "  (sa3_module): GlobalSAModule(\n",
       "    (nn): MLP(259, 256, 512, 1024)\n",
       "  )\n",
       "  (encode): MLP(1024, 512)\n",
       "  (mlp_mu): MLP(512, 512)\n",
       "  (mlp_logvar): MLP(512, 512)\n",
       "  (sdf1): MLP(515, 256, 128)\n",
       "  (sdf2): MLP(131, 64, 1)\n",
       ")"
      ]
     },
     "execution_count": 1,
     "metadata": {},
     "output_type": "execute_result"
    }
   ],
   "source": [
    "import torch\n",
    "import sys\n",
    "# add parent directory to the front of sys.path\n",
    "sys.path.insert(0, '..')\n",
    "import sdfvaemodel\n",
    "device = torch.device('cuda' if torch.cuda.is_available() else 'cpu')\n",
    "\n",
    "model = sdfvaemodel.Net().to(device)\n",
    "model.load_state_dict(torch.load(\"../pointnet_vaesdf.pth\", weights_only=True))\n",
    "model.eval()"
   ]
  },
  {
   "cell_type": "code",
   "execution_count": 2,
   "id": "d222b6da",
   "metadata": {},
   "outputs": [
    {
     "name": "stdout",
     "output_type": "stream",
     "text": [
      "Train dataset size: 1, Validation dataset size: 99\n"
     ]
    }
   ],
   "source": [
    "# data set imports\n",
    "import dataset_utils as du\n",
    "from torch.utils.data import DataLoader, random_split\n",
    "\n",
    "B = 10\n",
    "\n",
    "# load dataset\n",
    "dataset = du.SDFDataset(\"../cars100\")\n",
    "train_percent = 00.01\n",
    "\n",
    "\n",
    "# split dataset into training and validation sets\n",
    "train_size = int(train_percent * len(dataset))\n",
    "val_size = len(dataset) - train_size\n",
    "train_dataset, val_dataset = random_split(dataset, [train_size, val_size])\n",
    "\n",
    "# create data loaders for training and validation sets\n",
    "train_loader = DataLoader(train_dataset, batch_size=B, shuffle=True, num_workers=2, pin_memory=True)\n",
    "val_loader = DataLoader(val_dataset, batch_size=B, shuffle=False, num_workers=2, pin_memory=True)\n",
    "\n",
    "print(f\"Train dataset size: {len(train_dataset)}, Validation dataset size: {len(val_dataset)}\")"
   ]
  },
  {
   "cell_type": "code",
   "execution_count": null,
   "id": "eab6d146",
   "metadata": {},
   "outputs": [],
   "source": [
    "def process_batch(batch, np_in=2048, np_q=15000):\n",
    "    B, N, _ = batch.shape\n",
    "    coords = batch[..., :3]   # [B, N, 3]\n",
    "    sdfs   = batch[...,  3]   # [B, N]\n",
    "\n",
    "    idx_in = torch.stack([\n",
    "        torch.randperm(N, device=batch.device)[:np_in]\n",
    "        for _ in range(B)\n",
    "    ], dim=0)               # [B, np_in] # random samples\n",
    "\n",
    "    idx_q  = torch.stack([\n",
    "        torch.randperm(N, device=batch.device)[:np_q]\n",
    "        for _ in range(B)\n",
    "    ], dim=0)               # [B, np_q] # random samples\n",
    "\n",
    "    batch_ids = torch.arange(B, device=batch.device).unsqueeze(1)\n",
    "    pos = coords[batch_ids, idx_in]       # [B, np_in,  3]\n",
    "    x = sdfs[batch_ids, idx_in].unsqueeze(-1)  # [B, np_in, 1]\n",
    "\n",
    "    query_pos = coords[batch_ids, idx_q]        # [B, np_q,  3]\n",
    "    query_sdf = sdfs[batch_ids, idx_q].unsqueeze(-1)          # [B, np_q, 1]\n",
    "\n",
    "    pos = pos.reshape(-1, 3).contiguous()      # [B*np_in, 3]\n",
    "    x = x.reshape(-1, 1).contiguous()        # [B*np_in, 1]\n",
    "    batch_idx = batch_ids.repeat(1, np_in)           # [B, np_in]\n",
    "    batch_idx = batch_idx.reshape(-1).contiguous()   # [B*np_in]\n",
    "    \n",
    "    return x.to(device), pos.to(device), batch_idx.to(device), query_pos.to(device), query_sdf.to(device)"
   ]
  },
  {
   "cell_type": "code",
   "execution_count": 4,
   "id": "6a4e5c2c",
   "metadata": {},
   "outputs": [
    {
     "name": "stdout",
     "output_type": "stream",
     "text": [
      "Batch shape: torch.Size([10, 50000, 4])\n"
     ]
    },
    {
     "name": "stderr",
     "output_type": "stream",
     "text": [
      "c:\\Users\\maxde\\anaconda3\\envs\\final311\\Lib\\site-packages\\torch_geometric\\warnings.py:11: UserWarning: The usage of `scatter(reduce='max')` can be accelerated via the 'torch-scatter' package, but it was not found\n",
      "  warnings.warn(message)\n"
     ]
    }
   ],
   "source": [
    "\n",
    "batch = next(iter(val_loader))\n",
    "print(f'Batch shape: {batch.shape}')\n",
    "x, pos, batch, query_pos, query_sdf = process_batch(batch)\n",
    "\n",
    "x_encoded, _, _ = model.encoder(x, pos, batch)\n",
    "\n",
    "z, mu, logvar = model.vae(x_encoded)\n",
    "\n"
   ]
  },
  {
   "cell_type": "code",
   "execution_count": 9,
   "id": "e71a6da4",
   "metadata": {},
   "outputs": [
    {
     "name": "stdout",
     "output_type": "stream",
     "text": [
      "Batch shape: torch.Size([10, 50000, 4])\n",
      "Batch shape: torch.Size([10, 50000, 4])\n",
      "Batch shape: torch.Size([10, 50000, 4])\n",
      "Batch shape: torch.Size([10, 50000, 4])\n",
      "Batch shape: torch.Size([10, 50000, 4])\n",
      "Batch shape: torch.Size([10, 50000, 4])\n",
      "Batch shape: torch.Size([10, 50000, 4])\n",
      "Batch shape: torch.Size([10, 50000, 4])\n",
      "Batch shape: torch.Size([10, 50000, 4])\n",
      "Batch shape: torch.Size([9, 50000, 4])\n",
      "torch.Size([99, 512])\n"
     ]
    }
   ],
   "source": [
    "all_z = []\n",
    "\n",
    "for batch in val_loader:\n",
    "    print(f'Batch shape: {batch.shape}')\n",
    "    x, pos, batch, query_pos, query_sdf = process_batch(batch)\n",
    "\n",
    "    x_encoded, _, _ = model.encoder(x, pos, batch)\n",
    "\n",
    "    z, mu, logvar = model.vae(x_encoded)\n",
    "    all_z.append(z.detach().cpu())\n",
    "\n",
    "all_z = torch.cat(all_z, dim=0)\n",
    "print(all_z.shape)"
   ]
  },
  {
   "cell_type": "code",
   "execution_count": 10,
   "id": "90ac5a8a",
   "metadata": {},
   "outputs": [],
   "source": [
    "from sklearn.manifold import TSNE\n",
    "from sklearn.decomposition import PCA\n",
    "import matplotlib.pyplot as plt"
   ]
  },
  {
   "cell_type": "code",
   "execution_count": 12,
   "id": "cf7e1d01",
   "metadata": {},
   "outputs": [
    {
     "name": "stdout",
     "output_type": "stream",
     "text": [
      "torch.Size([99, 512])\n"
     ]
    }
   ],
   "source": [
    "print(all_z.shape)"
   ]
  },
  {
   "cell_type": "code",
   "execution_count": 13,
   "id": "66e0a543",
   "metadata": {},
   "outputs": [
    {
     "name": "stderr",
     "output_type": "stream",
     "text": [
      "C:\\Users\\maxde\\AppData\\Local\\Temp\\ipykernel_26380\\3970445064.py:13: UserWarning: No data for colormapping provided via 'c'. Parameters 'cmap' will be ignored\n",
      "  plt.scatter(z_tsne[:, 0], z_tsne[:, 1], cmap='viridis', s=5)\n",
      "C:\\Users\\maxde\\AppData\\Local\\Temp\\ipykernel_26380\\3970445064.py:18: UserWarning: No data for colormapping provided via 'c'. Parameters 'cmap' will be ignored\n",
      "  plt.scatter(z_pca[:, 0], z_pca[:, 1], cmap='viridis', s=5)\n"
     ]
    },
    {
     "data": {
      "image/png": "[encoded data removed]",
      "text/plain": [
       "<Figure size 1200x600 with 4 Axes>"
      ]
     },
     "metadata": {},
     "output_type": "display_data"
    }
   ],
   "source": [
    "# Visualize using t-SNE\n",
    "tsne = TSNE(n_components=2, random_state=42, perplexity=5)\n",
    "z_tsne = tsne.fit_transform(all_z.detach().cpu())\n",
    "\n",
    "# Visualize using PCA\n",
    "pca = PCA(n_components=2)\n",
    "z_pca = pca.fit_transform(all_z.detach().cpu())\n",
    "\n",
    "# Plot\n",
    "plt.figure(figsize=(12, 6))\n",
    "\n",
    "plt.subplot(1, 2, 1)\n",
    "plt.scatter(z_tsne[:, 0], z_tsne[:, 1], cmap='viridis', s=5)\n",
    "plt.colorbar()\n",
    "plt.title('t-SNE Visualization of Latent Space')\n",
    "\n",
    "plt.subplot(1, 2, 2)\n",
    "plt.scatter(z_pca[:, 0], z_pca[:, 1], cmap='viridis', s=5)\n",
    "plt.colorbar()\n",
    "plt.title('PCA Visualization of Latent Space')\n",
    "\n",
    "plt.show()"
   ]
  }
 ],
 "metadata": {
  "kernelspec": {
   "display_name": "final311",
   "language": "python",
   "name": "python3"
  },
  "language_info": {
   "codemirror_mode": {
    "name": "ipython",
    "version": 3
   },
   "file_extension": ".py",
   "mimetype": "text/x-python",
   "name": "python",
   "nbconvert_exporter": "python",
   "pygments_lexer": "ipython3",
   "version": "3.11.12"
  }
 },
 "nbformat": 4,
 "nbformat_minor": 5
}
