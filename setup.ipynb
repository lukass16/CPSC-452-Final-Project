{
 "cells": [
  {
   "cell_type": "markdown",
   "metadata": {},
   "source": [
    "# **Setup**"
   ]
  },
  {
   "cell_type": "markdown",
   "metadata": {},
   "source": [
    "**Download data**"
   ]
  },
  {
   "cell_type": "code",
   "execution_count": 1,
   "metadata": {},
   "outputs": [
    {
     "name": "stderr",
     "output_type": "stream",
     "text": [
      "c:\\Users\\maxde\\anaconda3\\envs\\final311\\Lib\\site-packages\\tqdm\\auto.py:21: TqdmWarning: IProgress not found. Please update jupyter and ipywidgets. See https://ipywidgets.readthedocs.io/en/stable/user_install.html\n",
      "  from .autonotebook import tqdm as notebook_tqdm\n"
     ]
    }
   ],
   "source": [
    "from huggingface_hub import hf_hub_download\n",
    "import zipfile\n",
    "import os\n",
    "\n",
    "extract_dir = \"./cars100\"\n",
    "\n",
    "# # Download the zip file\n",
    "# zip_path = hf_hub_download(\n",
    "#     repo_id=\"lukasskellijs/carssdf\",\n",
    "#     filename=\"cars100.zip\",\n",
    "#     repo_type=\"dataset\"\n",
    "# )\n",
    "\n",
    "# # Create output folder\n",
    "# os.makedirs(extract_dir, exist_ok=True)\n",
    "\n",
    "# # Unzip\n",
    "# with zipfile.ZipFile(zip_path, 'r') as zip_ref:\n",
    "#     zip_ref.extractall(extract_dir)\n",
    "# print(f\"Unzipped to: {extract_dir}\")"
   ]
  },
  {
   "cell_type": "markdown",
   "metadata": {},
   "source": [
    "**Define PyTorch dataset**"
   ]
  },
  {
   "cell_type": "code",
   "execution_count": 1,
   "metadata": {},
   "outputs": [],
   "source": [
    "import torch\n",
    "from torch.utils.data import Dataset\n",
    "from torch.utils.data import DataLoader\n",
    "\n",
    "class SDFDataset(Dataset):\n",
    "    def __init__(self, path_to_data):\n",
    "        self.path = path_to_data\n",
    "        self.files = os.listdir(self.path)\n",
    "\n",
    "    def __len__(self):\n",
    "        return len(self.files)\t\n",
    "\n",
    "    def __getitem__(self, idx):\n",
    "        return torch.load(os.path.join(self.path, self.files[idx]))\n",
    "\n",
    "    def get_name(self, idx):\n",
    "        return self.files[idx]"
   ]
  },
  {
   "cell_type": "markdown",
   "metadata": {},
   "source": [
    "**Work with data**"
   ]
  },
  {
   "cell_type": "code",
   "execution_count": null,
   "metadata": {},
   "outputs": [],
   "source": [
    "import matplotlib.pyplot as plt\n",
    "from mpl_toolkits.mplot3d import Axes3D\n",
    "from scipy.interpolate import griddata\n",
    "import numpy as np\n",
    "\n",
    "dataset = SDFDataset(extract_dir)\n",
    "\n",
    "# get example \n",
    "ID = 0\n",
    "example = dataset[ID]\n",
    "print(\"Viewing:\", dataset.get_name(ID))\n",
    "\n",
    "\n",
    "\"\"\" Define some utility functions \"\"\"\n",
    "# Note some of these might be very heavy to run - consider running on cluster\n",
    "\n",
    "def visualize_sdf_3d(sample):\n",
    "    # Convert to NumPy\n",
    "    coords = sample[:, :3].numpy()  # (x, y, z)\n",
    "    sdf = sample[:, 3].numpy()      # scalar values for color\n",
    "\n",
    "    # Create 3D plot\n",
    "    fig = plt.figure(figsize=(8, 6))\n",
    "    ax = fig.add_subplot(111, projection='3d')\n",
    "\n",
    "    # Scatter plot colored by sdf values\n",
    "    p = ax.scatter(coords[:, 0], coords[:, 1], coords[:, 2], c=sdf, cmap='coolwarm', s=1)\n",
    "\n",
    "    # Add colorbar\n",
    "    fig.colorbar(p, ax=ax, label='Signed Distance')\n",
    "\n",
    "    # Axes settings\n",
    "    ax.set_xlabel('X')\n",
    "    ax.set_ylabel('Y')\n",
    "    ax.set_zlabel('Z')\n",
    "    ax.set_title('3D SDF Visualization')\n",
    "\n",
    "    plt.tight_layout()\n",
    "    plt.show()\n",
    "\n",
    "def visualize_sdf_2d(sample, x_target = 0.0, tolerance = 0.01):\n",
    "    data = sample.numpy()\n",
    "\n",
    "    # Mask for points near x = x_target\n",
    "    slice_mask = np.abs(data[:, 0] - x_target) < tolerance # creates boolean mask of points that are within our range\n",
    "    yz_slice = data[slice_mask]\n",
    "\n",
    "    # Unpack y, z, sdf values\n",
    "    y, z, sdf = yz_slice[:, 1], yz_slice[:, 2], yz_slice[:, 3]\n",
    "\n",
    "    # Create regular grid in YZ plane\n",
    "    grid_y, grid_z = np.mgrid[y.min():y.max():200j, z.min():z.max():200j]\n",
    "\n",
    "    # Interpolate sdf values onto the grid\n",
    "    grid_sdf = griddata((y, z), sdf, (grid_y, grid_z), method='linear')\n",
    "\n",
    "    plt.figure(figsize=(6, 5))\n",
    "    cont = plt.contourf(grid_y, grid_z, grid_sdf, levels=100, cmap='coolwarm')\n",
    "    plt.contour(grid_y, grid_z, grid_sdf, levels=[0], colors='black', linewidths=1.5)\n",
    "    plt.colorbar(cont, label='Signed Distance')\n",
    "    plt.xlabel('Y')\n",
    "    plt.ylabel('Z')\n",
    "    plt.title(f'YZ Slice of SDF at x ≈ {x_target}')\n",
    "    plt.axis('equal')\n",
    "    plt.tight_layout()\n",
    "    plt.show()\n",
    "\n",
    "def print_summary(sample):\n",
    "    coords = sample[:, :3].numpy()  # (x, y, z)\n",
    "    sdf = sample[:, 3].numpy()      # scalar values for color\n",
    "\n",
    "    # print summary of SDF in nicely formatted table\n",
    "    print(f\"Shape: {sample.shape}\")\n",
    "    print(f\"Min SDF: {sdf.min()}\")\n",
    "    print(f\"Max SDF: {sdf.max()}\")\n",
    "    print(f\"Mean SDF: {sdf.mean()}\")\n",
    "    print(f\"Std SDF: {sdf.std()}\")\n",
    "    print(f\"Min X: {coords[:,0].min()}\")\n",
    "    print(f\"Max X: {coords[:,0].max()}\")\n",
    "    print(f\"Min Y: {coords[:,1].min()}\")\n",
    "    print(f\"Max Y: {coords[:,1].max()}\")\n",
    "    print(f\"Min Z: {coords[:,2].min()}\")\n",
    "    print(f\"Max Z: {coords[:,2].max()}\")\n",
    "\n",
    "visualize_sdf_2d(example)\n",
    "visualize_sdf_3d(example)\n",
    "print_summary(example)\n"
   ]
  },
  {
   "cell_type": "code",
   "execution_count": null,
   "metadata": {},
   "outputs": [],
   "source": []
  }
 ],
 "metadata": {
  "kernelspec": {
   "display_name": "final311",
   "language": "python",
   "name": "python3"
  },
  "language_info": {
   "codemirror_mode": {
    "name": "ipython",
    "version": 3
   },
   "file_extension": ".py",
   "mimetype": "text/x-python",
   "name": "python",
   "nbconvert_exporter": "python",
   "pygments_lexer": "ipython3",
   "version": "3.11.12"
  }
 },
 "nbformat": 4,
 "nbformat_minor": 4
}
