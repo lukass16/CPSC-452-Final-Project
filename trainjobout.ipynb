
CondaError: Run 'conda init' before 'conda deactivate'

Input Notebook:  pointnet_sdfvae.ipynb
Output Notebook: output_vae.ipynb
Executing:   0%|          | 0/13 [00:00<?, ?cell/s]Executing notebook with kernel: python3
Executing:   8%|▊         | 1/13 [00:10<02:07, 10.60s/cell]Executing:  15%|█▌        | 2/13 [00:11<00:55,  5.03s/cell]Executing:  62%|██████▏   | 8/13 [00:12<00:05,  1.01s/cell]Executing:  69%|██████▉   | 9/13 [00:14<00:04,  1.13s/cell]Executing:  77%|███████▋  | 10/13 [13:39<07:44, 154.95s/cell]Executing:  85%|████████▍ | 11/13 [13:39<04:03, 121.74s/cell]Executing:  92%|█████████▏| 12/13 [13:39<01:33, 93.23s/cell] Executing: 100%|██████████| 13/13 [13:40<00:00, 69.90s/cell]Executing: 100%|██████████| 13/13 [13:41<00:00, 63.19s/cell]
