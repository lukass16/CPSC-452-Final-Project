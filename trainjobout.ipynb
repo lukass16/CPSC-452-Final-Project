
CondaError: Run 'conda init' before 'conda deactivate'

Input Notebook:  pointnet.ipynb
Output Notebook: output.ipynb
Executing:   0%|          | 0/12 [00:00<?, ?cell/s]Executing notebook with kernel: python3
Executing:   8%|▊         | 1/12 [00:06<01:06,  6.06s/cell]Executing:  17%|█▋        | 2/12 [00:06<00:28,  2.88s/cell]Executing:  58%|█████▊    | 7/12 [00:07<00:03,  1.53cell/s]Executing:  67%|██████▋   | 8/12 [00:08<00:03,  1.20cell/s]slurmstepd: error: *** JOB 51408046 ON r102u36n01 CANCELLED AT 2025-05-05T09:04:16 DUE TO TIME LIMIT ***
